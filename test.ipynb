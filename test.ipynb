{
 "cells": [
  {
   "cell_type": "code",
   "execution_count": 22,
   "metadata": {},
   "outputs": [],
   "source": [
    "import torch\n",
    "import numpy as np\n",
    "from scipy.spatial import distance_matrix"
   ]
  },
  {
   "cell_type": "code",
   "execution_count": 3,
   "metadata": {},
   "outputs": [],
   "source": [
    "depot = torch.rand(size=(5, 1, 2))\n",
    "nodes = torch.rand(size=(5, 10, 2))"
   ]
  },
  {
   "cell_type": "code",
   "execution_count": 15,
   "metadata": {},
   "outputs": [
    {
     "data": {
      "text/plain": [
       "array([[0.9276323 , 0.04201007],\n",
       "       [0.36034948, 0.23714733],\n",
       "       [0.718716  , 0.3434391 ],\n",
       "       [0.7497392 , 0.53622097],\n",
       "       [0.04420394, 0.12459552],\n",
       "       [0.6536341 , 0.08271015],\n",
       "       [0.10470617, 0.45584416],\n",
       "       [0.0101887 , 0.20923328],\n",
       "       [0.16000587, 0.74691147],\n",
       "       [0.10504794, 0.48394197],\n",
       "       [0.67549205, 0.70996743]], dtype=float32)"
      ]
     },
     "execution_count": 15,
     "metadata": {},
     "output_type": "execute_result"
    }
   ],
   "source": [
    "depot_ = depot[0].numpy()\n",
    "node = nodes[0].numpy()\n",
    "nodes = np.concatenate([depot_, node], axis=0)\n",
    "nodes"
   ]
  },
  {
   "cell_type": "code",
   "execution_count": 40,
   "metadata": {},
   "outputs": [],
   "source": [
    "batch_size = 5\n",
    "problem_size = 10\n",
    "depot_xy = torch.rand(size=(batch_size, 1, 2))\n",
    "# shape: (batch, 1, 2)\n",
    "node_xy = torch.rand(size=(batch_size, problem_size, 2))\n",
    "# shape: (batch, problem, 2)\n",
    "total_n = 1+problem_size\n",
    "dm = np.zeros((batch_size, total_n, total_n))\n",
    "for b in range(batch_size):\n",
    "    depot = depot_xy[b].numpy()\n",
    "    node = node_xy[b].numpy()\n",
    "    nodes = np.concatenate([depot, node], axis=0)\n",
    "    distance = distance_matrix(nodes,nodes)\n",
    "    dm[b] = distance\n",
    "dm_t = torch.from_numpy(dm)"
   ]
  },
  {
   "cell_type": "code",
   "execution_count": 114,
   "metadata": {},
   "outputs": [
    {
     "name": "stdout",
     "output_type": "stream",
     "text": [
      "tensor([[[0.0000, 0.6893, 0.4091],\n",
      "         [0.0000, 0.6893, 0.4091],\n",
      "         [0.0000, 0.6893, 0.4091]],\n",
      "\n",
      "        [[0.0000, 0.1742, 0.6539],\n",
      "         [0.0000, 0.1742, 0.6539],\n",
      "         [0.0000, 0.1742, 0.6539]],\n",
      "\n",
      "        [[0.0000, 0.9417, 0.8021],\n",
      "         [0.0000, 0.9417, 0.8021],\n",
      "         [0.0000, 0.9417, 0.8021]]], dtype=torch.float64)\n",
      "data matrixshape:  torch.Size([5, 8, 11, 11])\n",
      "pre_index shape:  torch.Size([5, 8, 1])\n",
      "distance list shape:  torch.Size([5, 8, 11])\n"
     ]
    }
   ],
   "source": [
    "pomo_size = 8\n",
    "dm_total = dm_t[:, None, :, :].expand(batch_size, pomo_size, problem_size+1, problem_size+1)\n",
    "print(dm_total[:,:,:,0][:3,:3,:3])\n",
    "print('data matrixshape: ',dm_total.shape)\n",
    "pre_index1 = torch.from_numpy(np.random.randint(1,5,size=(5,8)))\n",
    "pre_index2 = pre_index1[:,:,None]\n",
    "print('pre_index shape: ',pre_index2.shape)\n",
    "distance_list = []\n",
    "for i in range(problem_size+1):\n",
    "    distance_list.append(dm_total[:,:,:,i].gather(dim=2,index=pre_index2).squeeze())\n",
    "distance_list = torch.stack(distance_list,dim=2)\n",
    "print('distance list shape: ',distance_list.shape)"
   ]
  },
  {
   "cell_type": "code",
   "execution_count": 113,
   "metadata": {},
   "outputs": [
    {
     "data": {
      "text/plain": [
       "tensor([[[0.0000, 0.6893, 0.4091],\n",
       "         [0.0000, 0.6893, 0.4091],\n",
       "         [0.0000, 0.6893, 0.4091]],\n",
       "\n",
       "        [[0.0000, 0.1742, 0.6539],\n",
       "         [0.0000, 0.1742, 0.6539],\n",
       "         [0.0000, 0.1742, 0.6539]],\n",
       "\n",
       "        [[0.0000, 0.9417, 0.8021],\n",
       "         [0.0000, 0.9417, 0.8021],\n",
       "         [0.0000, 0.9417, 0.8021]]], dtype=torch.float64)"
      ]
     },
     "execution_count": 113,
     "metadata": {},
     "output_type": "execute_result"
    }
   ],
   "source": [
    "dm_total[:,:,:,0][:3,:3,:3]"
   ]
  },
  {
   "cell_type": "code",
   "execution_count": 118,
   "metadata": {},
   "outputs": [
    {
     "data": {
      "text/plain": [
       "datetime.datetime(2022, 7, 18, 15, 36, 53, 97618, tzinfo=<DstTzInfo 'US/Pacific' PDT-1 day, 17:00:00 DST>)"
      ]
     },
     "execution_count": 118,
     "metadata": {},
     "output_type": "execute_result"
    }
   ],
   "source": [
    "from datetime import datetime\n",
    "import pytz\n",
    "datetime.now(pytz.timezone(\"US/Pacific\"))"
   ]
  },
  {
   "cell_type": "code",
   "execution_count": 121,
   "metadata": {},
   "outputs": [
    {
     "data": {
      "text/plain": [
       "torch.float32"
      ]
     },
     "execution_count": 121,
     "metadata": {},
     "output_type": "execute_result"
    }
   ],
   "source": [
    "torch.rand(size=(batch_size, 1, 2)).dtype"
   ]
  },
  {
   "cell_type": "code",
   "execution_count": 126,
   "metadata": {},
   "outputs": [
    {
     "data": {
      "text/plain": [
       "torch.float32"
      ]
     },
     "execution_count": 126,
     "metadata": {},
     "output_type": "execute_result"
    }
   ],
   "source": [
    "torch.from_numpy(np.array([[1,1.5,2]],dtype=np.float32)).dtype"
   ]
  }
 ],
 "metadata": {
  "interpreter": {
   "hash": "b21ebcbde1ae205617ba79cc7daedad1cb6102881e96a88dc7c8130139a54e33"
  },
  "kernelspec": {
   "display_name": "Python 3.8.13 64-bit ('ev1': conda)",
   "name": "python3"
  },
  "language_info": {
   "codemirror_mode": {
    "name": "ipython",
    "version": 3
   },
   "file_extension": ".py",
   "mimetype": "text/x-python",
   "name": "python",
   "nbconvert_exporter": "python",
   "pygments_lexer": "ipython3",
   "version": "3.8.13"
  },
  "orig_nbformat": 4
 },
 "nbformat": 4,
 "nbformat_minor": 2
}
